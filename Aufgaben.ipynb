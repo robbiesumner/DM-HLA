{
  "cells": [
    {
      "cell_type": "markdown",
      "metadata": {},
      "source": [
        "# Python Basics\n",
        "\n",
        "Wenn ihr nicht weiter wisst, könnt ihr hier spickeln. ;)"
      ]
    },
    {
      "cell_type": "code",
      "execution_count": null,
      "metadata": {},
      "outputs": [],
      "source": [
        "# Text ausgeben\n",
        "\n",
        "print(\"Hier steht dein Text\")"
      ]
    },
    {
      "cell_type": "code",
      "execution_count": null,
      "metadata": {},
      "outputs": [],
      "source": [
        "# Variable setzen\n",
        "\n",
        "zahl_1 = 420\n",
        "zahl_2 = 69\n",
        "text = \"ich bin variabel\""
      ]
    },
    {
      "cell_type": "code",
      "execution_count": null,
      "metadata": {},
      "outputs": [],
      "source": [
        "# Mit Variablen rechnen\n",
        "\n",
        "print(zahl_1 + zahl_2)"
      ]
    },
    {
      "cell_type": "code",
      "execution_count": null,
      "metadata": {},
      "outputs": [],
      "source": [
        "print(zahl_1 - zahl_2)"
      ]
    },
    {
      "cell_type": "code",
      "execution_count": null,
      "metadata": {},
      "outputs": [],
      "source": [
        "print(zahl_1 * zahl_2)"
      ]
    },
    {
      "cell_type": "markdown",
      "metadata": {},
      "source": [
        "# Aufgaben"
      ]
    },
    {
      "cell_type": "code",
      "execution_count": null,
      "metadata": {
        "trusted": true
      },
      "outputs": [],
      "source": [
        "import pandas as pd\n",
        "import matplotlib.pyplot as plt"
      ]
    },
    {
      "cell_type": "code",
      "execution_count": null,
      "metadata": {
        "trusted": true
      },
      "outputs": [],
      "source": [
        "data = pd.read_csv(\"Verkaufsdaten.csv\", delimiter=\";\")\n",
        "print(data)"
      ]
    },
    {
      "cell_type": "markdown",
      "metadata": {},
      "source": [
        "# Aufgabe 1\n",
        "\n",
        "Berechnet den Gesamtumsatz der vorliegenden 6 Tage und lasst ihn euch ausgeben."
      ]
    },
    {
      "cell_type": "code",
      "execution_count": null,
      "metadata": {},
      "outputs": [],
      "source": []
    },
    {
      "cell_type": "markdown",
      "metadata": {},
      "source": [
        "# Aufgabe 2\n",
        "\n",
        "Erweitert den Datensatz um eine Spalte, welche die durchschnittlichen Kosten eines Einkaufs (Durchschnittskauf) enthält. Erstellt solch eine Spalte auch für die Werte aus dem Vorjahr (Durchschnittskauf Vj)."
      ]
    },
    {
      "cell_type": "code",
      "execution_count": null,
      "metadata": {},
      "outputs": [],
      "source": []
    },
    {
      "cell_type": "markdown",
      "metadata": {},
      "source": [
        "# Aufgabe 3\n",
        "\n",
        "Lasst euch aus dem Datensatz ausgeben, wie hoch der Umsatz der Filiale am 14.12.2023 war."
      ]
    },
    {
      "cell_type": "code",
      "execution_count": null,
      "metadata": {},
      "outputs": [],
      "source": []
    },
    {
      "cell_type": "markdown",
      "metadata": {},
      "source": [
        "# Aufgabe 4\n",
        "\n",
        "Tim geht nicht gerne in vollen Filialen einkaufen. Was würdet ihr ihm empfehlen, an welchem Tag er einkaufen gehen sollte, um eine möglichst leere Filiale aufzufinden?"
      ]
    },
    {
      "cell_type": "code",
      "execution_count": null,
      "metadata": {},
      "outputs": [],
      "source": []
    },
    {
      "cell_type": "markdown",
      "metadata": {},
      "source": [
        "# Aufgabe 5\n",
        "\n",
        "Ergänzt den Datensatz um die Spalten `Abweichung Umsatz`, `Abweichung Bons` und `Abweichung Durchschnittskauf`, die den prozentualen Unterschied der jeweiligen Werte zum Vorjahr enthält.\n",
        "\n",
        "Beispiel: `Umsatz` = 100.000, `Umsatz Vj` = 90.000\n",
        "\n",
        "->\tAbweichung Umsatz = 11,11%"
      ]
    },
    {
      "cell_type": "code",
      "execution_count": null,
      "metadata": {},
      "outputs": [],
      "source": []
    },
    {
      "cell_type": "markdown",
      "metadata": {},
      "source": [
        "# Aufgabe 6\n",
        "\n",
        "Erstelle ein Säulendiagramm, dass den Umsatz an den einzelnen Wochentagen darstellt."
      ]
    },
    {
      "cell_type": "code",
      "execution_count": null,
      "metadata": {},
      "outputs": [],
      "source": []
    },
    {
      "cell_type": "markdown",
      "metadata": {},
      "source": [
        "# Aufgabe 7\n",
        "\n",
        "Bestimmt aus den Daten, wann die meisten Kunden ihren Wocheneinkauf erledigen."
      ]
    },
    {
      "cell_type": "code",
      "execution_count": null,
      "metadata": {},
      "outputs": [],
      "source": []
    },
    {
      "cell_type": "markdown",
      "metadata": {},
      "source": [
        "# Aufgabe 8\n",
        "\n",
        "Ergänze das Säulendiagramm aus Aufgabe 6 mit der Anzahl an Bons."
      ]
    },
    {
      "cell_type": "code",
      "execution_count": null,
      "metadata": {},
      "outputs": [],
      "source": []
    },
    {
      "cell_type": "markdown",
      "metadata": {},
      "source": [
        "# Optional: Aufgabe 8.1\n",
        "\n",
        "Wenn ihr nach der Bearbeitung der Aufgaben 8-10 noch Zeit habt, könnt ihr versuchen das Diagramm noch zu optimieren und zu verschönern."
      ]
    },
    {
      "cell_type": "code",
      "execution_count": null,
      "metadata": {},
      "outputs": [],
      "source": []
    },
    {
      "cell_type": "markdown",
      "metadata": {},
      "source": [
        "_Hinweis: Bei Aufgaben 9 & 10 muss nicht programmiert werden!_"
      ]
    },
    {
      "cell_type": "markdown",
      "metadata": {},
      "source": [
        "# Aufgabe 9\n",
        "\n",
        "Warum schwankt der Umsatz innerhalb der Woche so stark? Ist der Verlauf des Umsatzes typisch für einen Drogeriemarkt?"
      ]
    },
    {
      "cell_type": "markdown",
      "metadata": {},
      "source": [
        "# Aufgabe 10\n",
        "\n",
        "Stelle eine Vermutung auf, ob der Umsatz in anderen Wochen (z.B. einer Woche im Juni) höher, ähnlich oder niedriger als in der dargestellten Woche ist."
      ]
    }
  ],
  "metadata": {
    "kernelspec": {
      "display_name": "Python (Pyodide)",
      "language": "python",
      "name": "python"
    },
    "language_info": {
      "codemirror_mode": {
        "name": "python",
        "version": 3
      },
      "file_extension": ".py",
      "mimetype": "text/x-python",
      "name": "python",
      "nbconvert_exporter": "python",
      "pygments_lexer": "ipython3",
      "version": "3.8"
    }
  },
  "nbformat": 4,
  "nbformat_minor": 4
}
