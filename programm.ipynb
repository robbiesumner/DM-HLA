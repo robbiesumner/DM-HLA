{
  "metadata": {
    "kernelspec": {
      "name": "python",
      "display_name": "Python (Pyodide)",
      "language": "python"
    },
    "language_info": {
      "codemirror_mode": {
        "name": "python",
        "version": 3
      },
      "file_extension": ".py",
      "mimetype": "text/x-python",
      "name": "python",
      "nbconvert_exporter": "python",
      "pygments_lexer": "ipython3",
      "version": "3.8"
    }
  },
  "nbformat_minor": 4,
  "nbformat": 4,
  "cells": [
    {
      "cell_type": "code",
      "source": "import pandas as pd\nimport matplotlib.pyplot as plt",
      "metadata": {
        "trusted": true
      },
      "outputs": [],
      "execution_count": 1
    },
    {
      "cell_type": "code",
      "source": "data = pd.read_csv(\"Verkaufsdaten.csv\", delimiter=\";\")\nprint(data)",
      "metadata": {
        "trusted": true
      },
      "outputs": [
        {
          "name": "stdout",
          "text": "        Datum         Tag  Umsatz  Umsatz VJTg  Anz Bons  Anz Bons VJTg\n0  16.12.2023     Samstag   20174        15632      1637           1373\n1  15.12.2023     Freitag   22836        18293      1587           1231\n2  14.12.2023  Donnerstag   15203        13213      1498           1151\n3  13.12.2023    Mittwoch   12793        11202      1421           1050\n4  12.12.2023    Dienstag   12282        11392      1328           1297\n5  11.12.2023      Montag   18032        16232      1520           1401\n",
          "output_type": "stream"
        }
      ],
      "execution_count": 2
    }
  ]
}